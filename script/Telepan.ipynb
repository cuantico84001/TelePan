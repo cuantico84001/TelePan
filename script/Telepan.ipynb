{
 "cells": [
  {
   "cell_type": "markdown",
   "metadata": {},
   "source": [
    "# Proyecto Telepan\n",
    "\n",
    "Proyecto para empresa de reparto de pan en la provincia de **Ávila**, se aplicarán técnicas de Análisis de Datos y Machine Learning.\n",
    "\n",
    "***\n",
    "\n",
    ">En este proyecto, mostraremos cómo:\n",
    "\n",
    ">>* ___administrar___, \n",
    ">>* ___extraer___, \n",
    ">>* ___transformar___, \n",
    ">>* ___analizar___ \n",
    ">>* y ___visualizar datos___.\n",
    "\n",
    "***\n",
    "\n",
    "\n",
    "![facebook de Telepan](./data/logo.jpg \"EL MEJOR PAN DE ÁVILA\")\n",
    "Para mayor información consultar [facebook de Telepan](https://www.facebook.com/Telepan-%C3%81vila-441157269309528/)\n",
    "\n",
    "## Case Study\n",
    "***\n",
    "Para lo cual seguiremos la metodología [CRISP-DM](https://www.ibm.com/support/knowledgecenter/SS3RA7_sub/modeler_crispdm_ddita/clementine/crisp_help/crisp_overview.html)\n",
    "\n",
    "![ciclo](./data/crisp_process.jpg \"ciclo CRISP-DM\") \n",
    "\n",
    "Basada en los siguientes 6 pasos:\n",
    "\n",
    "1) __Business Understanding__.\n",
    "\n",
    "   Comprensión del problema empresarial, objetivos del proyecto y metodología a usar. Definición del tema para poder determinar el mejor enfoque a utilizar.\n",
    "\n",
    "   Esta etapa es la más importante porque es aquí donde se perfila la intención del proyecto. La Metodología Fundamental y CRISP-DM se alinean aquí. Requiere comunicación y claridad. La dificultad aquí es que las partes interesadas tienen diferentes objetivos, sesgos y modalidades de relacionar la información. No todos ven las mismas cosas ni de la misma manera. Sin una perspectiva clara, concisa y completa de cuáles son los objetivos del proyecto, los recursos se gastarán innecesariamente.\n",
    "    \n",
    "2) __Data Understanding__.\n",
    "\n",
    "   La comprensión de los datos se basa en la comprensión empresarial. Los datos se recopilan en esta etapa del proceso. La comprensión de lo que la empresa quiere y necesita determinará qué datos se recopilan, de qué fuentes y mediante qué métodos. CRISP-DM combina las etapas de requisitos de datos, recopilación de datos y comprensión de datos del esquema de la metodología fundamental.\n",
    "\n",
    "3) __Data Preparation__.\n",
    "    \n",
    "   Una vez que se han recopilado los datos, se deben transformar en un subconjunto utilizable a menos que se determine que se necesitan más datos. Una vez que se elige un conjunto de datos, se debe verificar si hay casos cuestionables, faltantes o ambiguos. La preparación de datos es común a CRISP-DM y a la metodología fundamental.\n",
    "\n",
    "4) __Modeling__.\n",
    "\n",
    "   Una vez preparados para su uso, los datos deben expresarse a través de los modelos apropiados, brindar información significativa y, con suerte, nuevos conocimientos. Este es el propósito de la minería de datos: crear información de conocimiento que tenga significado y utilidad. El uso de modelos revela patrones y estructuras dentro de los datos que brindan información sobre las características de interés. Los modelos se seleccionan en una parte de los datos y se realizan ajustes si es necesario. La selección de modelos es un arte y una ciencia. Tanto la Metodología Fundamental como CRISP-DM son necesarios para la etapa siguiente.\n",
    "\n",
    "5) __Evaluation__.\n",
    "\n",
    "   El modelo seleccionado debe probarse. Esto generalmente se hace al tener una prueba preseleccionada, configurada para ejecutar el modelo entrenado. Esto le permitirá ver la efectividad del modelo en un conjunto que considera nuevo. Los resultados de esto se utilizan para determinar la eficacia del modelo y presagia su papel en la siguiente y última etapa.\n",
    "\n",
    "6) __Deployment__.\n",
    "\n",
    "   En el paso de implementación, el modelo se usa en nuevos datos fuera del alcance del conjunto de datos y por nuevas partes interesadas. Las nuevas interacciones en esta fase podrían revelar las nuevas variables y necesidades del conjunto de datos y el modelo. Estos nuevos desafíos podrían iniciar la revisión de las necesidades y acciones comerciales, o del modelo y los datos, o de ambos.\n",
    "***"
   ]
  },
  {
   "cell_type": "markdown",
   "metadata": {},
   "source": [
    "# Gestión de nuestos datos"
   ]
  },
  {
   "cell_type": "markdown",
   "metadata": {},
   "source": [
    "### pandas"
   ]
  },
  {
   "cell_type": "code",
   "execution_count": 11,
   "metadata": {},
   "outputs": [],
   "source": [
    "# librerias a utilizar\n",
    "import pandas as pd"
   ]
  },
  {
   "cell_type": "code",
   "execution_count": 51,
   "metadata": {},
   "outputs": [],
   "source": [
    "# podemos decirle a pandas que solo recoja un número de lineas del archivo\n",
    "df = pd.read_csv(\"data/telepan.txt\", nrows=8)"
   ]
  },
  {
   "cell_type": "code",
   "execution_count": 52,
   "metadata": {},
   "outputs": [
    {
     "data": {
      "text/plain": [
       "Index(['cliente', 'total'], dtype='object')"
      ]
     },
     "execution_count": 52,
     "metadata": {},
     "output_type": "execute_result"
    }
   ],
   "source": [
    "# observamos nuestros datos\n",
    "df\n",
    "# df.head(8)\n",
    "# df.head(8).describe()\n",
    "# df.tail(2)\n",
    "\n",
    "# para los atributos no es necesario poner los paréntesis, para el caso de métodos/funciones entonces sí los ponemos\n",
    "df.columns\n",
    "# df.values # array con solo los datos\n"
   ]
  },
  {
   "cell_type": "code",
   "execution_count": 53,
   "metadata": {},
   "outputs": [
    {
     "data": {
      "text/html": [
       "<div>\n",
       "<style scoped>\n",
       "    .dataframe tbody tr th:only-of-type {\n",
       "        vertical-align: middle;\n",
       "    }\n",
       "\n",
       "    .dataframe tbody tr th {\n",
       "        vertical-align: top;\n",
       "    }\n",
       "\n",
       "    .dataframe thead th {\n",
       "        text-align: right;\n",
       "    }\n",
       "</style>\n",
       "<table border=\"1\" class=\"dataframe\">\n",
       "  <thead>\n",
       "    <tr style=\"text-align: right;\">\n",
       "      <th></th>\n",
       "      <th>cliente</th>\n",
       "      <th>total</th>\n",
       "    </tr>\n",
       "  </thead>\n",
       "  <tbody>\n",
       "    <tr>\n",
       "      <th>5</th>\n",
       "      <td>6</td>\n",
       "      <td>1.5</td>\n",
       "    </tr>\n",
       "    <tr>\n",
       "      <th>0</th>\n",
       "      <td>1</td>\n",
       "      <td>4.5</td>\n",
       "    </tr>\n",
       "    <tr>\n",
       "      <th>7</th>\n",
       "      <td>8</td>\n",
       "      <td>4.5</td>\n",
       "    </tr>\n",
       "    <tr>\n",
       "      <th>2</th>\n",
       "      <td>3</td>\n",
       "      <td>23.4</td>\n",
       "    </tr>\n",
       "    <tr>\n",
       "      <th>1</th>\n",
       "      <td>2</td>\n",
       "      <td>11.2</td>\n",
       "    </tr>\n",
       "    <tr>\n",
       "      <th>6</th>\n",
       "      <td>7</td>\n",
       "      <td>0.5</td>\n",
       "    </tr>\n",
       "    <tr>\n",
       "      <th>3</th>\n",
       "      <td>4</td>\n",
       "      <td>4.5</td>\n",
       "    </tr>\n",
       "    <tr>\n",
       "      <th>4</th>\n",
       "      <td>5</td>\n",
       "      <td>15.4</td>\n",
       "    </tr>\n",
       "  </tbody>\n",
       "</table>\n",
       "</div>"
      ],
      "text/plain": [
       "   cliente  total\n",
       "5        6    1.5\n",
       "0        1    4.5\n",
       "7        8    4.5\n",
       "2        3   23.4\n",
       "1        2   11.2\n",
       "6        7    0.5\n",
       "3        4    4.5\n",
       "4        5   15.4"
      ]
     },
     "execution_count": 53,
     "metadata": {},
     "output_type": "execute_result"
    }
   ],
   "source": [
    "# a modo de reordenar nuestra base de datos para temas de anonimato, usamos un truco con sample\n",
    "df_reordenado = df.sample(frac=1)\n",
    "df_reordenado"
   ]
  },
  {
   "cell_type": "code",
   "execution_count": 54,
   "metadata": {},
   "outputs": [
    {
     "data": {
      "text/plain": [
       "cliente      int64\n",
       "total      float64\n",
       "dtype: object"
      ]
     },
     "execution_count": 54,
     "metadata": {},
     "output_type": "execute_result"
    }
   ],
   "source": [
    "# tipos de variables, int, float, object (=string)\n",
    "df.dtypes"
   ]
  },
  {
   "cell_type": "markdown",
   "metadata": {},
   "source": [
    "### filtrado de los datos"
   ]
  },
  {
   "cell_type": "code",
   "execution_count": 68,
   "metadata": {},
   "outputs": [
    {
     "data": {
      "text/html": [
       "<div>\n",
       "<style scoped>\n",
       "    .dataframe tbody tr th:only-of-type {\n",
       "        vertical-align: middle;\n",
       "    }\n",
       "\n",
       "    .dataframe tbody tr th {\n",
       "        vertical-align: top;\n",
       "    }\n",
       "\n",
       "    .dataframe thead th {\n",
       "        text-align: right;\n",
       "    }\n",
       "</style>\n",
       "<table border=\"1\" class=\"dataframe\">\n",
       "  <thead>\n",
       "    <tr style=\"text-align: right;\">\n",
       "      <th></th>\n",
       "      <th>cliente</th>\n",
       "      <th>total</th>\n",
       "    </tr>\n",
       "  </thead>\n",
       "  <tbody>\n",
       "    <tr>\n",
       "      <th>0</th>\n",
       "      <td>1</td>\n",
       "      <td>4.5</td>\n",
       "    </tr>\n",
       "    <tr>\n",
       "      <th>1</th>\n",
       "      <td>2</td>\n",
       "      <td>11.2</td>\n",
       "    </tr>\n",
       "    <tr>\n",
       "      <th>2</th>\n",
       "      <td>3</td>\n",
       "      <td>23.4</td>\n",
       "    </tr>\n",
       "    <tr>\n",
       "      <th>4</th>\n",
       "      <td>5</td>\n",
       "      <td>15.4</td>\n",
       "    </tr>\n",
       "  </tbody>\n",
       "</table>\n",
       "</div>"
      ],
      "text/plain": [
       "   cliente  total\n",
       "0        1    4.5\n",
       "1        2   11.2\n",
       "2        3   23.4\n",
       "4        5   15.4"
      ]
     },
     "execution_count": 68,
     "metadata": {},
     "output_type": "execute_result"
    }
   ],
   "source": [
    "df['total'] # solo una columna\n",
    "df[1:3] # solo filas, ojo con el rango de :autoexcluyente\n",
    "df[df['total'] > 10] # filtrado selectivo\n",
    "df[(df['total'] > 10) & (df['cliente'] <= 2)] # filtrado combinado\n",
    "df[(df['total'] > 10) | (df['cliente'] <= 2)] # filtrado combinado"
   ]
  },
  {
   "cell_type": "code",
   "execution_count": 74,
   "metadata": {},
   "outputs": [
    {
     "data": {
      "text/html": [
       "<div>\n",
       "<style scoped>\n",
       "    .dataframe tbody tr th:only-of-type {\n",
       "        vertical-align: middle;\n",
       "    }\n",
       "\n",
       "    .dataframe tbody tr th {\n",
       "        vertical-align: top;\n",
       "    }\n",
       "\n",
       "    .dataframe thead th {\n",
       "        text-align: right;\n",
       "    }\n",
       "</style>\n",
       "<table border=\"1\" class=\"dataframe\">\n",
       "  <thead>\n",
       "    <tr style=\"text-align: right;\">\n",
       "      <th></th>\n",
       "      <th>cliente</th>\n",
       "      <th>total</th>\n",
       "    </tr>\n",
       "  </thead>\n",
       "  <tbody>\n",
       "    <tr>\n",
       "      <th>1</th>\n",
       "      <td>2</td>\n",
       "      <td>11.2</td>\n",
       "    </tr>\n",
       "    <tr>\n",
       "      <th>3</th>\n",
       "      <td>4</td>\n",
       "      <td>4.5</td>\n",
       "    </tr>\n",
       "  </tbody>\n",
       "</table>\n",
       "</div>"
      ],
      "text/plain": [
       "   cliente  total\n",
       "1        2   11.2\n",
       "3        4    4.5"
      ]
     },
     "execution_count": 74,
     "metadata": {},
     "output_type": "execute_result"
    }
   ],
   "source": [
    "df[df['cliente'].isin([2, 4])] # filtrado por listado, todo lo visto funciona también en el caso de 'cadenas'\n",
    "# df['cliente'].isin([2, 4])"
   ]
  },
  {
   "cell_type": "code",
   "execution_count": 78,
   "metadata": {},
   "outputs": [
    {
     "data": {
      "text/html": [
       "<div>\n",
       "<style scoped>\n",
       "    .dataframe tbody tr th:only-of-type {\n",
       "        vertical-align: middle;\n",
       "    }\n",
       "\n",
       "    .dataframe tbody tr th {\n",
       "        vertical-align: top;\n",
       "    }\n",
       "\n",
       "    .dataframe thead th {\n",
       "        text-align: right;\n",
       "    }\n",
       "</style>\n",
       "<table border=\"1\" class=\"dataframe\">\n",
       "  <thead>\n",
       "    <tr style=\"text-align: right;\">\n",
       "      <th></th>\n",
       "      <th>cliente</th>\n",
       "      <th>total</th>\n",
       "    </tr>\n",
       "  </thead>\n",
       "  <tbody>\n",
       "  </tbody>\n",
       "</table>\n",
       "</div>"
      ],
      "text/plain": [
       "Empty DataFrame\n",
       "Columns: [cliente, total]\n",
       "Index: []"
      ]
     },
     "execution_count": 78,
     "metadata": {},
     "output_type": "execute_result"
    }
   ],
   "source": [
    "df[pd.isna(df['cliente'])] # filtramos mi df a todos aquellos cuya columna valor sea nan\n",
    "# pd.isna(df['cliente'])"
   ]
  },
  {
   "cell_type": "markdown",
   "metadata": {},
   "source": [
    "### transformaciones de los datos"
   ]
  },
  {
   "cell_type": "code",
   "execution_count": 84,
   "metadata": {},
   "outputs": [
    {
     "data": {
      "text/html": [
       "<div>\n",
       "<style scoped>\n",
       "    .dataframe tbody tr th:only-of-type {\n",
       "        vertical-align: middle;\n",
       "    }\n",
       "\n",
       "    .dataframe tbody tr th {\n",
       "        vertical-align: top;\n",
       "    }\n",
       "\n",
       "    .dataframe thead th {\n",
       "        text-align: right;\n",
       "    }\n",
       "</style>\n",
       "<table border=\"1\" class=\"dataframe\">\n",
       "  <thead>\n",
       "    <tr style=\"text-align: right;\">\n",
       "      <th></th>\n",
       "      <th>cliente</th>\n",
       "      <th>total</th>\n",
       "      <th>total_IVA</th>\n",
       "      <th>columna para borrar</th>\n",
       "    </tr>\n",
       "  </thead>\n",
       "  <tbody>\n",
       "    <tr>\n",
       "      <th>0</th>\n",
       "      <td>1</td>\n",
       "      <td>4.5</td>\n",
       "      <td>5.44</td>\n",
       "      <td>0.091837</td>\n",
       "    </tr>\n",
       "    <tr>\n",
       "      <th>1</th>\n",
       "      <td>2</td>\n",
       "      <td>11.2</td>\n",
       "      <td>13.55</td>\n",
       "      <td>0.228571</td>\n",
       "    </tr>\n",
       "    <tr>\n",
       "      <th>2</th>\n",
       "      <td>3</td>\n",
       "      <td>23.4</td>\n",
       "      <td>28.31</td>\n",
       "      <td>0.477551</td>\n",
       "    </tr>\n",
       "    <tr>\n",
       "      <th>3</th>\n",
       "      <td>4</td>\n",
       "      <td>4.5</td>\n",
       "      <td>5.44</td>\n",
       "      <td>0.091837</td>\n",
       "    </tr>\n",
       "    <tr>\n",
       "      <th>4</th>\n",
       "      <td>5</td>\n",
       "      <td>15.4</td>\n",
       "      <td>18.63</td>\n",
       "      <td>0.314286</td>\n",
       "    </tr>\n",
       "    <tr>\n",
       "      <th>5</th>\n",
       "      <td>6</td>\n",
       "      <td>1.5</td>\n",
       "      <td>1.82</td>\n",
       "      <td>0.030612</td>\n",
       "    </tr>\n",
       "    <tr>\n",
       "      <th>6</th>\n",
       "      <td>7</td>\n",
       "      <td>0.5</td>\n",
       "      <td>0.60</td>\n",
       "      <td>0.010204</td>\n",
       "    </tr>\n",
       "    <tr>\n",
       "      <th>7</th>\n",
       "      <td>8</td>\n",
       "      <td>4.5</td>\n",
       "      <td>5.44</td>\n",
       "      <td>0.091837</td>\n",
       "    </tr>\n",
       "  </tbody>\n",
       "</table>\n",
       "</div>"
      ],
      "text/plain": [
       "   cliente  total  total_IVA  columna para borrar\n",
       "0        1    4.5       5.44             0.091837\n",
       "1        2   11.2      13.55             0.228571\n",
       "2        3   23.4      28.31             0.477551\n",
       "3        4    4.5       5.44             0.091837\n",
       "4        5   15.4      18.63             0.314286\n",
       "5        6    1.5       1.82             0.030612\n",
       "6        7    0.5       0.60             0.010204\n",
       "7        8    4.5       5.44             0.091837"
      ]
     },
     "execution_count": 84,
     "metadata": {},
     "output_type": "execute_result"
    }
   ],
   "source": [
    "# columna nueva con el 21% de iva aplicado, aplicamos redondeo con 2 decimales\n",
    "df['total_IVA'] = round(df['total'] * 1.21, 2)\n",
    "df\n",
    "\n",
    "df['columna para borrar'] = df['total'] / 49\n",
    "df"
   ]
  },
  {
   "cell_type": "code",
   "execution_count": 85,
   "metadata": {},
   "outputs": [
    {
     "data": {
      "text/html": [
       "<div>\n",
       "<style scoped>\n",
       "    .dataframe tbody tr th:only-of-type {\n",
       "        vertical-align: middle;\n",
       "    }\n",
       "\n",
       "    .dataframe tbody tr th {\n",
       "        vertical-align: top;\n",
       "    }\n",
       "\n",
       "    .dataframe thead th {\n",
       "        text-align: right;\n",
       "    }\n",
       "</style>\n",
       "<table border=\"1\" class=\"dataframe\">\n",
       "  <thead>\n",
       "    <tr style=\"text-align: right;\">\n",
       "      <th></th>\n",
       "      <th>cliente</th>\n",
       "      <th>total</th>\n",
       "      <th>total_IVA</th>\n",
       "    </tr>\n",
       "  </thead>\n",
       "  <tbody>\n",
       "    <tr>\n",
       "      <th>0</th>\n",
       "      <td>1</td>\n",
       "      <td>4.5</td>\n",
       "      <td>5.44</td>\n",
       "    </tr>\n",
       "    <tr>\n",
       "      <th>1</th>\n",
       "      <td>2</td>\n",
       "      <td>11.2</td>\n",
       "      <td>13.55</td>\n",
       "    </tr>\n",
       "    <tr>\n",
       "      <th>2</th>\n",
       "      <td>3</td>\n",
       "      <td>23.4</td>\n",
       "      <td>28.31</td>\n",
       "    </tr>\n",
       "    <tr>\n",
       "      <th>3</th>\n",
       "      <td>4</td>\n",
       "      <td>4.5</td>\n",
       "      <td>5.44</td>\n",
       "    </tr>\n",
       "    <tr>\n",
       "      <th>4</th>\n",
       "      <td>5</td>\n",
       "      <td>15.4</td>\n",
       "      <td>18.63</td>\n",
       "    </tr>\n",
       "    <tr>\n",
       "      <th>5</th>\n",
       "      <td>6</td>\n",
       "      <td>1.5</td>\n",
       "      <td>1.82</td>\n",
       "    </tr>\n",
       "    <tr>\n",
       "      <th>6</th>\n",
       "      <td>7</td>\n",
       "      <td>0.5</td>\n",
       "      <td>0.60</td>\n",
       "    </tr>\n",
       "    <tr>\n",
       "      <th>7</th>\n",
       "      <td>8</td>\n",
       "      <td>4.5</td>\n",
       "      <td>5.44</td>\n",
       "    </tr>\n",
       "  </tbody>\n",
       "</table>\n",
       "</div>"
      ],
      "text/plain": [
       "   cliente  total  total_IVA\n",
       "0        1    4.5       5.44\n",
       "1        2   11.2      13.55\n",
       "2        3   23.4      28.31\n",
       "3        4    4.5       5.44\n",
       "4        5   15.4      18.63\n",
       "5        6    1.5       1.82\n",
       "6        7    0.5       0.60\n",
       "7        8    4.5       5.44"
      ]
     },
     "execution_count": 85,
     "metadata": {},
     "output_type": "execute_result"
    }
   ],
   "source": [
    "# eleminar columna\n",
    "del(df['columna para borrar'])\n",
    "df"
   ]
  }
 ],
 "metadata": {
  "kernelspec": {
   "display_name": "Python 3",
   "language": "python",
   "name": "python3"
  },
  "language_info": {
   "codemirror_mode": {
    "name": "ipython",
    "version": 3
   },
   "file_extension": ".py",
   "mimetype": "text/x-python",
   "name": "python",
   "nbconvert_exporter": "python",
   "pygments_lexer": "ipython3",
   "version": "3.7.7"
  }
 },
 "nbformat": 4,
 "nbformat_minor": 4
}
